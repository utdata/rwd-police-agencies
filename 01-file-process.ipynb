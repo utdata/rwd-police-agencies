{
 "cells": [
  {
   "cell_type": "markdown",
   "metadata": {},
   "source": [
    "# csvkit to cut down police agencies file\n",
    "\n",
    "I just need 2018 for Texas, so I'm using csvkit to cut down the file"
   ]
  },
  {
   "cell_type": "code",
   "execution_count": 12,
   "metadata": {},
   "outputs": [
    {
     "name": "stdout",
     "output_type": "stream",
     "text": [
      "  1: data_year\n",
      "  2: ori\n",
      "  3: pub_agency_name\n",
      "  4: pub_agency_unit\n",
      "  5: state_abbr\n",
      "  6: division_name\n",
      "  7: region_name\n",
      "  8: county_name\n",
      "  9: agency_type_name\n",
      " 10: population_group_desc\n",
      " 11: population\n",
      " 12: male_officer_ct\n",
      " 13: male_civilian_ct\n",
      " 14: male_total_ct\n",
      " 15: female_officer_ct\n",
      " 16: female_civilian_ct\n",
      " 17: female_total_ct\n",
      " 18: officer_ct\n",
      " 19: civilian_ct\n",
      " 20: total_pe_ct\n",
      " 21: pe_ct_per_1000\n"
     ]
    }
   ],
   "source": [
    "csvcut -n data/pe_1960_2018.csv"
   ]
  },
  {
   "cell_type": "markdown",
   "metadata": {},
   "source": [
    "Make a smaller file by getting just 2018 data and cleaning it so Rstudio can open it."
   ]
  },
  {
   "cell_type": "code",
   "execution_count": 15,
   "metadata": {},
   "outputs": [],
   "source": [
    "csvgrep -c data_year -m \"2018\" data/pe_1960_2018.csv | csvgrep -c state_abbr -m \"TX\" > data/pe_texas_2018.csv"
   ]
  },
  {
   "cell_type": "markdown",
   "metadata": {},
   "source": [
    "Cut the original data file to just Texas, but include all years"
   ]
  },
  {
   "cell_type": "code",
   "execution_count": 16,
   "metadata": {},
   "outputs": [],
   "source": [
    "csvgrep -c state_abbr -m \"TX\" data/pe_1960_2018.csv > data/pe_texas.csv"
   ]
  },
  {
   "cell_type": "code",
   "execution_count": null,
   "metadata": {},
   "outputs": [],
   "source": []
  }
 ],
 "metadata": {
  "kernelspec": {
   "display_name": "Bash",
   "language": "bash",
   "name": "bash"
  },
  "language_info": {
   "codemirror_mode": "shell",
   "file_extension": ".sh",
   "mimetype": "text/x-sh",
   "name": "bash"
  }
 },
 "nbformat": 4,
 "nbformat_minor": 4
}
